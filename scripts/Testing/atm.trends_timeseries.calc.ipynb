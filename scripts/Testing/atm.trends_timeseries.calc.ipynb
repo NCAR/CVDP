{
 "cells": [
  {
   "cell_type": "markdown",
   "metadata": {},
   "source": [
    "Calculates global means and standard deviations\n",
    "\n",
    "Variables used: prect, psl, trefht, ts"
   ]
  },
  {
   "cell_type": "code",
   "execution_count": 1,
   "metadata": {},
   "outputs": [],
   "source": [
    "import os\n",
    "import xarray as xr \n",
    "import numpy as np\n",
    "import pandas as pd\n",
    "import functions as func\n",
    "import calendar as calendar"
   ]
  },
  {
   "cell_type": "code",
   "execution_count": null,
   "metadata": {
    "jupyter": {
     "source_hidden": true
    }
   },
   "outputs": [],
   "source": [
    "SCALE_TIMESERIES =  os.environ.get('SCALE_TIMESERIES')\n",
    "CREATE_GRAPHICS = os.environ.get('CREATE_GRAPHICS')\n",
    "PNG_SCALE = float(os.environ.get('PNG_SCALE'))\n",
    "OUTPUT_TYPE = os.environ.get('OUTPUT_TYPE')\n",
    "COLORMAP = os.environ.get('COLORMAP')\n",
    "OUTDIR = os.environ.get('OUTDIR')\n",
    "PNG_SCALE_SUMMARY = float(os.environ.get('PNG_SCALE_SUMMARY'))"
   ]
  },
  {
   "cell_type": "code",
   "execution_count": 2,
   "metadata": {},
   "outputs": [
    {
     "name": "stdout",
     "output_type": "stream",
     "text": [
      "creating CESM2-LENS_1301.020.cvdp_data.psl.trends_timeseries.py.1950-2100.nc\n",
      "PSL\n",
      "<xarray.DataArray 'PSL' (time: 1812, lat: 192, lon: 288)>\n",
      "array([[[  8.105469 ,   8.105469 ,   8.10553  , ...,   8.10553  ,\n",
      "           8.10553  ,   8.10553  ],\n",
      "        [  8.202759 ,   8.208374 ,   8.213989 , ...,   8.185608 ,\n",
      "           8.191772 ,   8.197815 ],\n",
      "        [  8.321655 ,   8.335449 ,   8.350769 , ...,   8.28125  ,\n",
      "           8.295044 ,   8.306702 ],\n",
      "        ...,\n",
      "        [  6.422119 ,   6.480591 ,   6.5391235, ...,   6.246765 ,\n",
      "           6.305176 ,   6.3633423],\n",
      "        [  6.5446777,   6.5751953,   6.6052856, ...,   6.4536743,\n",
      "           6.4837646,   6.514221 ],\n",
      "        [  6.5959473,   6.5959473,   6.5959473, ...,   6.5959473,\n",
      "           6.5959473,   6.5959473]],\n",
      "\n",
      "       [[  1.9849854,   1.9849854,   1.9849854, ...,   1.9849854,\n",
      "           1.9849854,   1.9849854],\n",
      "        [  1.7041626,   1.6882324,   1.6719971, ...,   1.7536621,\n",
      "           1.737854 ,   1.7209473],\n",
      "        [  1.3786621,   1.3659668,   1.3508911, ...,   1.4141846,\n",
      "           1.4022827,   1.3914185],\n",
      "...\n",
      "        [-14.747986 , -14.734619 , -14.720886 , ..., -14.791565 ,\n",
      "         -14.777649 , -14.762451 ],\n",
      "        [-14.951233 , -14.940063 , -14.929199 , ..., -14.984009 ,\n",
      "         -14.973145 , -14.962219 ],\n",
      "        [-15.075989 , -15.075989 , -15.075989 , ..., -15.075989 ,\n",
      "         -15.075989 , -15.075989 ]],\n",
      "\n",
      "       [[ -4.731079 ,  -4.731079 ,  -4.731079 , ...,  -4.731079 ,\n",
      "          -4.731079 ,  -4.731079 ],\n",
      "        [ -4.619507 ,  -4.6203003,  -4.619446 , ...,  -4.619446 ,\n",
      "          -4.6190796,  -4.6193237],\n",
      "        [ -4.451782 ,  -4.44928  ,  -4.44928  , ...,  -4.468567 ,\n",
      "          -4.4610596,  -4.4558716],\n",
      "        ...,\n",
      "        [-11.025269 , -11.052734 , -11.079224 , ..., -10.938782 ,\n",
      "         -10.967712 , -10.996826 ],\n",
      "        [-11.420837 , -11.43219  , -11.443237 , ..., -11.385498 ,\n",
      "         -11.39679  , -11.408264 ],\n",
      "        [-11.919678 , -11.919678 , -11.919678 , ..., -11.919678 ,\n",
      "         -11.919678 , -11.919678 ]]], dtype=float32)\n",
      "Coordinates:\n",
      "  * lat      (lat) float64 -90.0 -89.06 -88.12 -87.17 ... 87.17 88.12 89.06 90.0\n",
      "  * lon      (lon) float64 0.0 1.25 2.5 3.75 5.0 ... 355.0 356.2 357.5 358.8\n",
      "  * time     (time) datetime64[ns] 1950-01-01 1950-02-01 ... 2100-12-01\n",
      "    month    (time) int64 1 2 3 4 5 6 7 8 9 10 11 ... 2 3 4 5 6 7 8 9 10 11 12\n",
      "Attributes:\n",
      "    units:    hPa\n"
     ]
    },
    {
     "ename": "ValueError",
     "evalue": "array must not contain infs or NaNs",
     "output_type": "error",
     "traceback": [
      "\u001b[0;31m---------------------------------------------------------------------------\u001b[0m",
      "\u001b[0;31mValueError\u001b[0m                                Traceback (most recent call last)",
      "\u001b[0;32m<ipython-input-2-10c1d2c41e87>\u001b[0m in \u001b[0;36m<module>\u001b[0;34m\u001b[0m\n\u001b[1;32m     38\u001b[0m             \u001b[0mprint\u001b[0m\u001b[0;34m(\u001b[0m\u001b[0mfarr_anom\u001b[0m\u001b[0;34m)\u001b[0m\u001b[0;34m\u001b[0m\u001b[0;34m\u001b[0m\u001b[0m\n\u001b[1;32m     39\u001b[0m \u001b[0;34m\u001b[0m\u001b[0m\n\u001b[0;32m---> 40\u001b[0;31m             \u001b[0mfinarr\u001b[0m \u001b[0;34m=\u001b[0m \u001b[0mfunc\u001b[0m\u001b[0;34m.\u001b[0m\u001b[0mseasonal_trends_timeseries\u001b[0m\u001b[0;34m(\u001b[0m\u001b[0mfarr_anom\u001b[0m\u001b[0;34m,\u001b[0m\u001b[0mvn\u001b[0m\u001b[0;34m)\u001b[0m\u001b[0;34m\u001b[0m\u001b[0;34m\u001b[0m\u001b[0m\n\u001b[0m\u001b[1;32m     41\u001b[0m \u001b[0;34m\u001b[0m\u001b[0m\n\u001b[1;32m     42\u001b[0m \u001b[0;31m#            finarr[vn+'_spatialmean_djf'].to_netcdf(fno,encoding={vn+'_spatialmean_djf':{'dtype':'float32', '_FillValue': 1.e20}, 'lat':{'dtype':'float32','_FillValue': None}, 'lon':{'dtype':'float32','_FillValue': None}})\u001b[0m\u001b[0;34m\u001b[0m\u001b[0;34m\u001b[0m\u001b[0;34m\u001b[0m\u001b[0m\n",
      "\u001b[0;32m~/CESM-diagnostics/CVDP-LE/Devel/ncl_scripts/functions.py\u001b[0m in \u001b[0;36mseasonal_trends_timeseries\u001b[0;34m(arr2, vari)\u001b[0m\n\u001b[1;32m    327\u001b[0m \u001b[0;34m\u001b[0m\u001b[0m\n\u001b[1;32m    328\u001b[0m     \u001b[0;31m#edit from here\u001b[0m\u001b[0;34m\u001b[0m\u001b[0;34m\u001b[0m\u001b[0;34m\u001b[0m\u001b[0m\n\u001b[0;32m--> 329\u001b[0;31m     \u001b[0mdetrend_djf\u001b[0m \u001b[0;34m=\u001b[0m \u001b[0msignal\u001b[0m\u001b[0;34m.\u001b[0m\u001b[0mdetrend\u001b[0m\u001b[0;34m(\u001b[0m\u001b[0marrDJF\u001b[0m\u001b[0;34m,\u001b[0m \u001b[0maxis\u001b[0m\u001b[0;34m=\u001b[0m\u001b[0;36m0\u001b[0m\u001b[0;34m,\u001b[0m \u001b[0mtype\u001b[0m\u001b[0;34m=\u001b[0m\u001b[0;34m'linear'\u001b[0m\u001b[0;34m)\u001b[0m\u001b[0;34m\u001b[0m\u001b[0;34m\u001b[0m\u001b[0m\n\u001b[0m\u001b[1;32m    330\u001b[0m     \u001b[0mtrend_djf\u001b[0m\u001b[0;34m=\u001b[0m\u001b[0marrDJF\u001b[0m \u001b[0;34m-\u001b[0m \u001b[0mdetrend_djf\u001b[0m\u001b[0;34m\u001b[0m\u001b[0;34m\u001b[0m\u001b[0m\n\u001b[1;32m    331\u001b[0m     \u001b[0mslope_djf\u001b[0m \u001b[0;34m=\u001b[0m \u001b[0mtrend_djf\u001b[0m\u001b[0;34m[\u001b[0m\u001b[0;36m1\u001b[0m\u001b[0;34m,\u001b[0m\u001b[0;34m:\u001b[0m\u001b[0;34m,\u001b[0m\u001b[0;34m:\u001b[0m\u001b[0;34m]\u001b[0m\u001b[0;34m-\u001b[0m\u001b[0mtrend_djf\u001b[0m\u001b[0;34m[\u001b[0m\u001b[0;36m0\u001b[0m\u001b[0;34m,\u001b[0m\u001b[0;34m:\u001b[0m\u001b[0;34m,\u001b[0m\u001b[0;34m:\u001b[0m\u001b[0;34m]\u001b[0m \u001b[0;31m#slope\u001b[0m\u001b[0;34m\u001b[0m\u001b[0;34m\u001b[0m\u001b[0m\n",
      "\u001b[0;32m/project/cas/asphilli/anaconda3/lib/python3.8/site-packages/scipy/signal/signaltools.py\u001b[0m in \u001b[0;36mdetrend\u001b[0;34m(data, axis, type, bp, overwrite_data)\u001b[0m\n\u001b[1;32m   3324\u001b[0m             \u001b[0mA\u001b[0m\u001b[0;34m[\u001b[0m\u001b[0;34m:\u001b[0m\u001b[0;34m,\u001b[0m \u001b[0;36m0\u001b[0m\u001b[0;34m]\u001b[0m \u001b[0;34m=\u001b[0m \u001b[0mnp\u001b[0m\u001b[0;34m.\u001b[0m\u001b[0mcast\u001b[0m\u001b[0;34m[\u001b[0m\u001b[0mdtype\u001b[0m\u001b[0;34m]\u001b[0m\u001b[0;34m(\u001b[0m\u001b[0mnp\u001b[0m\u001b[0;34m.\u001b[0m\u001b[0marange\u001b[0m\u001b[0;34m(\u001b[0m\u001b[0;36m1\u001b[0m\u001b[0;34m,\u001b[0m \u001b[0mNpts\u001b[0m \u001b[0;34m+\u001b[0m \u001b[0;36m1\u001b[0m\u001b[0;34m)\u001b[0m \u001b[0;34m*\u001b[0m \u001b[0;36m1.0\u001b[0m \u001b[0;34m/\u001b[0m \u001b[0mNpts\u001b[0m\u001b[0;34m)\u001b[0m\u001b[0;34m\u001b[0m\u001b[0;34m\u001b[0m\u001b[0m\n\u001b[1;32m   3325\u001b[0m             \u001b[0msl\u001b[0m \u001b[0;34m=\u001b[0m \u001b[0mslice\u001b[0m\u001b[0;34m(\u001b[0m\u001b[0mbp\u001b[0m\u001b[0;34m[\u001b[0m\u001b[0mm\u001b[0m\u001b[0;34m]\u001b[0m\u001b[0;34m,\u001b[0m \u001b[0mbp\u001b[0m\u001b[0;34m[\u001b[0m\u001b[0mm\u001b[0m \u001b[0;34m+\u001b[0m \u001b[0;36m1\u001b[0m\u001b[0;34m]\u001b[0m\u001b[0;34m)\u001b[0m\u001b[0;34m\u001b[0m\u001b[0;34m\u001b[0m\u001b[0m\n\u001b[0;32m-> 3326\u001b[0;31m             \u001b[0mcoef\u001b[0m\u001b[0;34m,\u001b[0m \u001b[0mresids\u001b[0m\u001b[0;34m,\u001b[0m \u001b[0mrank\u001b[0m\u001b[0;34m,\u001b[0m \u001b[0ms\u001b[0m \u001b[0;34m=\u001b[0m \u001b[0mlinalg\u001b[0m\u001b[0;34m.\u001b[0m\u001b[0mlstsq\u001b[0m\u001b[0;34m(\u001b[0m\u001b[0mA\u001b[0m\u001b[0;34m,\u001b[0m \u001b[0mnewdata\u001b[0m\u001b[0;34m[\u001b[0m\u001b[0msl\u001b[0m\u001b[0;34m]\u001b[0m\u001b[0;34m)\u001b[0m\u001b[0;34m\u001b[0m\u001b[0;34m\u001b[0m\u001b[0m\n\u001b[0m\u001b[1;32m   3327\u001b[0m             \u001b[0mnewdata\u001b[0m\u001b[0;34m[\u001b[0m\u001b[0msl\u001b[0m\u001b[0;34m]\u001b[0m \u001b[0;34m=\u001b[0m \u001b[0mnewdata\u001b[0m\u001b[0;34m[\u001b[0m\u001b[0msl\u001b[0m\u001b[0;34m]\u001b[0m \u001b[0;34m-\u001b[0m \u001b[0mnp\u001b[0m\u001b[0;34m.\u001b[0m\u001b[0mdot\u001b[0m\u001b[0;34m(\u001b[0m\u001b[0mA\u001b[0m\u001b[0;34m,\u001b[0m \u001b[0mcoef\u001b[0m\u001b[0;34m)\u001b[0m\u001b[0;34m\u001b[0m\u001b[0;34m\u001b[0m\u001b[0m\n\u001b[1;32m   3328\u001b[0m         \u001b[0;31m# Put data back in original shape.\u001b[0m\u001b[0;34m\u001b[0m\u001b[0;34m\u001b[0m\u001b[0;34m\u001b[0m\u001b[0m\n",
      "\u001b[0;32m/project/cas/asphilli/anaconda3/lib/python3.8/site-packages/scipy/linalg/basic.py\u001b[0m in \u001b[0;36mlstsq\u001b[0;34m(a, b, cond, overwrite_a, overwrite_b, check_finite, lapack_driver)\u001b[0m\n\u001b[1;32m   1154\u001b[0m     \"\"\"\n\u001b[1;32m   1155\u001b[0m     \u001b[0ma1\u001b[0m \u001b[0;34m=\u001b[0m \u001b[0m_asarray_validated\u001b[0m\u001b[0;34m(\u001b[0m\u001b[0ma\u001b[0m\u001b[0;34m,\u001b[0m \u001b[0mcheck_finite\u001b[0m\u001b[0;34m=\u001b[0m\u001b[0mcheck_finite\u001b[0m\u001b[0;34m)\u001b[0m\u001b[0;34m\u001b[0m\u001b[0;34m\u001b[0m\u001b[0m\n\u001b[0;32m-> 1156\u001b[0;31m     \u001b[0mb1\u001b[0m \u001b[0;34m=\u001b[0m \u001b[0m_asarray_validated\u001b[0m\u001b[0;34m(\u001b[0m\u001b[0mb\u001b[0m\u001b[0;34m,\u001b[0m \u001b[0mcheck_finite\u001b[0m\u001b[0;34m=\u001b[0m\u001b[0mcheck_finite\u001b[0m\u001b[0;34m)\u001b[0m\u001b[0;34m\u001b[0m\u001b[0;34m\u001b[0m\u001b[0m\n\u001b[0m\u001b[1;32m   1157\u001b[0m     \u001b[0;32mif\u001b[0m \u001b[0mlen\u001b[0m\u001b[0;34m(\u001b[0m\u001b[0ma1\u001b[0m\u001b[0;34m.\u001b[0m\u001b[0mshape\u001b[0m\u001b[0;34m)\u001b[0m \u001b[0;34m!=\u001b[0m \u001b[0;36m2\u001b[0m\u001b[0;34m:\u001b[0m\u001b[0;34m\u001b[0m\u001b[0;34m\u001b[0m\u001b[0m\n\u001b[1;32m   1158\u001b[0m         \u001b[0;32mraise\u001b[0m \u001b[0mValueError\u001b[0m\u001b[0;34m(\u001b[0m\u001b[0;34m'Input array a should be 2D'\u001b[0m\u001b[0;34m)\u001b[0m\u001b[0;34m\u001b[0m\u001b[0;34m\u001b[0m\u001b[0m\n",
      "\u001b[0;32m/project/cas/asphilli/anaconda3/lib/python3.8/site-packages/scipy/_lib/_util.py\u001b[0m in \u001b[0;36m_asarray_validated\u001b[0;34m(a, check_finite, sparse_ok, objects_ok, mask_ok, as_inexact)\u001b[0m\n\u001b[1;32m    261\u001b[0m             \u001b[0;32mraise\u001b[0m \u001b[0mValueError\u001b[0m\u001b[0;34m(\u001b[0m\u001b[0;34m'masked arrays are not supported'\u001b[0m\u001b[0;34m)\u001b[0m\u001b[0;34m\u001b[0m\u001b[0;34m\u001b[0m\u001b[0m\n\u001b[1;32m    262\u001b[0m     \u001b[0mtoarray\u001b[0m \u001b[0;34m=\u001b[0m \u001b[0mnp\u001b[0m\u001b[0;34m.\u001b[0m\u001b[0masarray_chkfinite\u001b[0m \u001b[0;32mif\u001b[0m \u001b[0mcheck_finite\u001b[0m \u001b[0;32melse\u001b[0m \u001b[0mnp\u001b[0m\u001b[0;34m.\u001b[0m\u001b[0masarray\u001b[0m\u001b[0;34m\u001b[0m\u001b[0;34m\u001b[0m\u001b[0m\n\u001b[0;32m--> 263\u001b[0;31m     \u001b[0ma\u001b[0m \u001b[0;34m=\u001b[0m \u001b[0mtoarray\u001b[0m\u001b[0;34m(\u001b[0m\u001b[0ma\u001b[0m\u001b[0;34m)\u001b[0m\u001b[0;34m\u001b[0m\u001b[0;34m\u001b[0m\u001b[0m\n\u001b[0m\u001b[1;32m    264\u001b[0m     \u001b[0;32mif\u001b[0m \u001b[0;32mnot\u001b[0m \u001b[0mobjects_ok\u001b[0m\u001b[0;34m:\u001b[0m\u001b[0;34m\u001b[0m\u001b[0;34m\u001b[0m\u001b[0m\n\u001b[1;32m    265\u001b[0m         \u001b[0;32mif\u001b[0m \u001b[0ma\u001b[0m\u001b[0;34m.\u001b[0m\u001b[0mdtype\u001b[0m \u001b[0;32mis\u001b[0m \u001b[0mnp\u001b[0m\u001b[0;34m.\u001b[0m\u001b[0mdtype\u001b[0m\u001b[0;34m(\u001b[0m\u001b[0;34m'O'\u001b[0m\u001b[0;34m)\u001b[0m\u001b[0;34m:\u001b[0m\u001b[0;34m\u001b[0m\u001b[0;34m\u001b[0m\u001b[0m\n",
      "\u001b[0;32m/project/cas/asphilli/anaconda3/lib/python3.8/site-packages/numpy/lib/function_base.py\u001b[0m in \u001b[0;36masarray_chkfinite\u001b[0;34m(a, dtype, order)\u001b[0m\n\u001b[1;32m    483\u001b[0m     \u001b[0ma\u001b[0m \u001b[0;34m=\u001b[0m \u001b[0masarray\u001b[0m\u001b[0;34m(\u001b[0m\u001b[0ma\u001b[0m\u001b[0;34m,\u001b[0m \u001b[0mdtype\u001b[0m\u001b[0;34m=\u001b[0m\u001b[0mdtype\u001b[0m\u001b[0;34m,\u001b[0m \u001b[0morder\u001b[0m\u001b[0;34m=\u001b[0m\u001b[0morder\u001b[0m\u001b[0;34m)\u001b[0m\u001b[0;34m\u001b[0m\u001b[0;34m\u001b[0m\u001b[0m\n\u001b[1;32m    484\u001b[0m     \u001b[0;32mif\u001b[0m \u001b[0ma\u001b[0m\u001b[0;34m.\u001b[0m\u001b[0mdtype\u001b[0m\u001b[0;34m.\u001b[0m\u001b[0mchar\u001b[0m \u001b[0;32min\u001b[0m \u001b[0mtypecodes\u001b[0m\u001b[0;34m[\u001b[0m\u001b[0;34m'AllFloat'\u001b[0m\u001b[0;34m]\u001b[0m \u001b[0;32mand\u001b[0m \u001b[0;32mnot\u001b[0m \u001b[0mnp\u001b[0m\u001b[0;34m.\u001b[0m\u001b[0misfinite\u001b[0m\u001b[0;34m(\u001b[0m\u001b[0ma\u001b[0m\u001b[0;34m)\u001b[0m\u001b[0;34m.\u001b[0m\u001b[0mall\u001b[0m\u001b[0;34m(\u001b[0m\u001b[0;34m)\u001b[0m\u001b[0;34m:\u001b[0m\u001b[0;34m\u001b[0m\u001b[0;34m\u001b[0m\u001b[0m\n\u001b[0;32m--> 485\u001b[0;31m         raise ValueError(\n\u001b[0m\u001b[1;32m    486\u001b[0m             \"array must not contain infs or NaNs\")\n\u001b[1;32m    487\u001b[0m     \u001b[0;32mreturn\u001b[0m \u001b[0ma\u001b[0m\u001b[0;34m\u001b[0m\u001b[0;34m\u001b[0m\u001b[0m\n",
      "\u001b[0;31mValueError\u001b[0m: array must not contain infs or NaNs"
     ]
    }
   ],
   "source": [
    "#vlist = ['prect','psl','trefht','ts']\n",
    "vlist = ['psl']\n",
    "\n",
    "for vn in vlist:\n",
    "    names = []\n",
    "    paths = []\n",
    "    syear = []\n",
    "    eyear = []\n",
    "    names_EM = []\n",
    "    EM_num = []\n",
    "    \n",
    "#    print(vn)\n",
    "    with open('../namelist_byvar/namelist_'+vn) as f:\n",
    "        for line in f:\n",
    "            check = line.split(' | ')\n",
    "            names.append(check[0])\n",
    "            paths.append(check[1])\n",
    "            syear.append(check[2])\n",
    "            eyear.append(check[3])\n",
    "            ems = check[4].split('-')\n",
    "            EM_num.append(ems[0])\n",
    "            names_EM.append(ems[1])\n",
    "\n",
    "#    print(paths)\n",
    "    gg = -1\n",
    "    for mr in paths:\n",
    "        gg = gg+1    \n",
    "        fno = names[gg]+'.cvdp_data.'+vn+'.trends_timeseries.py.'+syear[gg]+'-'+eyear[gg]+'.nc'\n",
    "        fno = fno.replace(' ','_')\n",
    "        if not os.path.isfile(fno):\n",
    "            print('creating '+fno)\n",
    "            fils = !ls {mr}   # this works as direct input into open_mfdataset!\n",
    "            farr = func.data_read_in_3D(fils,syear[gg],eyear[gg],vn)\n",
    "            \n",
    "            farr_clim = farr.groupby('time.month').mean(dim='time')   # calculate climatology\n",
    "            farr_anom = farr.groupby('time.month') - farr_clim   # form anomalies\n",
    "            farr_anom.attrs.update(farr.attrs)\n",
    "            print(farr_anom)\n",
    "            \n",
    "            finarr = func.seasonal_trends_timeseries(farr_anom,vn)\n",
    "    \n",
    "#            finarr[vn+'_spatialmean_djf'].to_netcdf(fno,encoding={vn+'_spatialmean_djf':{'dtype':'float32', '_FillValue': 1.e20}, 'lat':{'dtype':'float32','_FillValue': None}, 'lon':{'dtype':'float32','_FillValue': None}})\n",
    "#            finarr[vn+'_spatialmean_mam'].to_netcdf(fno,encoding={vn+'_spatialmean_mam':{'dtype':'float32', '_FillValue': 1.e20}},mode='a')\n",
    "#            finarr[vn+'_spatialmean_jja'].to_netcdf(fno,encoding={vn+'_spatialmean_jja':{'dtype':'float32', '_FillValue': 1.e20}},mode='a')\n",
    "#            finarr[vn+'_spatialmean_son'].to_netcdf(fno,encoding={vn+'_spatialmean_son':{'dtype':'float32', '_FillValue': 1.e20}},mode='a')\n",
    "#            finarr[vn+'_spatialmean_jfm'].to_netcdf(fno,encoding={vn+'_spatialmean_jfm':{'dtype':'float32', '_FillValue': 1.e20}},mode='a')\n",
    "#            finarr[vn+'_spatialmean_jas'].to_netcdf(fno,encoding={vn+'_spatialmean_jas':{'dtype':'float32', '_FillValue': 1.e20}},mode='a')\n",
    "#            finarr[vn+'_spatialmean_ann'].to_netcdf(fno,encoding={vn+'_spatialmean_ann':{'dtype':'float32', '_FillValue': 1.e20}},mode='a')\n",
    "#            finarr[vn+'_spatialstddev_djf'].to_netcdf(fno,encoding={vn+'_spatialstddev_djf':{'dtype':'float32', '_FillValue': 1.e20}},mode='a')\n",
    "#            finarr[vn+'_spatialstddev_mam'].to_netcdf(fno,encoding={vn+'_spatialstddev_mam':{'dtype':'float32', '_FillValue': 1.e20}},mode='a')\n",
    "#            finarr[vn+'_spatialstddev_jja'].to_netcdf(fno,encoding={vn+'_spatialstddev_jja':{'dtype':'float32', '_FillValue': 1.e20}},mode='a')\n",
    "#            finarr[vn+'_spatialstddev_son'].to_netcdf(fno,encoding={vn+'_spatialstddev_son':{'dtype':'float32', '_FillValue': 1.e20}},mode='a')\n",
    "#            finarr[vn+'_spatialstddev_jfm'].to_netcdf(fno,encoding={vn+'_spatialstddev_jfm':{'dtype':'float32', '_FillValue': 1.e20}},mode='a')\n",
    "#            finarr[vn+'_spatialstddev_jas'].to_netcdf(fno,encoding={vn+'_spatialstddev_jas':{'dtype':'float32', '_FillValue': 1.e20}},mode='a')\n",
    "#            finarr[vn+'_spatialstddev_ann'].to_netcdf(fno,encoding={vn+'_spatialstddev_ann':{'dtype':'float32', '_FillValue': 1.e20}},mode='a')\n",
    "            del(finarr,farr,farr_clim,farr_anom)        \n",
    "            break"
   ]
  },
  {
   "cell_type": "code",
   "execution_count": null,
   "metadata": {},
   "outputs": [],
   "source": []
  }
 ],
 "metadata": {
  "kernelspec": {
   "display_name": "Python 3 (ipykernel)",
   "language": "python",
   "name": "python3"
  },
  "language_info": {
   "codemirror_mode": {
    "name": "ipython",
    "version": 3
   },
   "file_extension": ".py",
   "mimetype": "text/x-python",
   "name": "python",
   "nbconvert_exporter": "python",
   "pygments_lexer": "ipython3",
   "version": "3.8.16"
  }
 },
 "nbformat": 4,
 "nbformat_minor": 4
}
