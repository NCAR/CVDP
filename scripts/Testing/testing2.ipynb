{
 "cells": [
  {
   "cell_type": "code",
   "execution_count": 2,
   "id": "b0281dd1-7bfc-4622-bb24-59b3db2acb09",
   "metadata": {},
   "outputs": [],
   "source": [
    "import os, re, sys\n",
    "import xarray as xr \n",
    "import numpy as np\n",
    "import pandas as pd\n",
    "sys.path.append(\"/home/asphilli/CESM-diagnostics/CVDP-py\")\n",
    "#import functions as func\n",
    "import calendar as calendar\n",
    "import matplotlib as mpl\n",
    "import matplotlib.pyplot as plt\n",
    "import cartopy.crs as ccrs\n",
    "import yaml\n",
    "import glob\n",
    "import os.path"
   ]
  },
  {
   "cell_type": "code",
   "execution_count": 3,
   "id": "2515b58d-938a-416b-870e-7fa0bb5fa013",
   "metadata": {},
   "outputs": [
    {
     "name": "stdout",
     "output_type": "stream",
     "text": [
      "3\n"
     ]
    }
   ],
   "source": [
    "a = [1,2,3]\n",
    "b = len(a)\n",
    "print(b)"
   ]
  },
  {
   "cell_type": "code",
   "execution_count": 32,
   "id": "d987644e-c2b8-419f-8605-a5ef21a99ed6",
   "metadata": {},
   "outputs": [
    {
     "name": "stdout",
     "output_type": "stream",
     "text": [
      "(0.1411764705882353, 0.0, 0.8470588235294118)\n",
      "(0.09411764705882353, 0.10980392156862745, 0.9686274509803922)\n",
      "(0.1568627450980392, 0.3411764705882353, 1.0)\n",
      "(0.23921568627450981, 0.5294117647058824, 1.0)\n",
      "(0.33725490196078434, 0.6901960784313725, 1.0)\n",
      "(0.4588235294117647, 0.8274509803921568, 1.0)\n",
      "(0.6, 0.9176470588235294, 1.0)\n",
      "(0.7372549019607844, 0.9764705882352941, 1.0)\n",
      "(0.9176470588235294, 1.0, 1.0)\n",
      "(1.0, 1.0, 0.9176470588235294)\n",
      "(1.0, 0.9450980392156862, 0.7372549019607844)\n",
      "(1.0, 0.8392156862745098, 0.6)\n",
      "(1.0, 0.6745098039215687, 0.4588235294117647)\n",
      "(1.0, 0.47058823529411764, 0.33725490196078434)\n",
      "(1.0, 0.23921568627450981, 0.23921568627450981)\n",
      "(0.9686274509803922, 0.15294117647058825, 0.20784313725490197)\n",
      "(0.8470588235294118, 0.08235294117647059, 0.1843137254901961)\n",
      "(0.6470588235294118, 0.0, 0.12941176470588237)\n",
      "(0.6470588235294118, 0.0, 0.12941176470588237)\n",
      "(0.6470588235294118, 0.0, 0.12941176470588237)\n",
      "<class 'matplotlib.colors.ListedColormap'>\n",
      "17\n",
      "[(0.1411764705882353, 0.0, 0.8470588235294118), (0.09411764705882353, 0.10980392156862745, 0.9686274509803922), (0.1568627450980392, 0.3411764705882353, 1.0), (0.23921568627450981, 0.5294117647058824, 1.0), (0.33725490196078434, 0.6901960784313725, 1.0), (0.4588235294117647, 0.8274509803921568, 1.0), (0.6, 0.9176470588235294, 1.0), (0.7372549019607844, 0.9764705882352941, 1.0), (0.9176470588235294, 1.0, 1.0), (1.0, 1.0, 0.9176470588235294), (1.0, 0.9450980392156862, 0.7372549019607844), (1.0, 0.8392156862745098, 0.6), (1.0, 0.6745098039215687, 0.4588235294117647), (1.0, 0.47058823529411764, 0.33725490196078434), (1.0, 0.23921568627450981, 0.23921568627450981), (0.9686274509803922, 0.15294117647058825, 0.20784313725490197), (0.8470588235294118, 0.08235294117647059, 0.1843137254901961), (0.6470588235294118, 0.0, 0.12941176470588237)]\n"
     ]
    }
   ],
   "source": [
    "colormap2 = 'BlueDarkRed18'\n",
    "cmap2     = func.get_NCL_colormap(colormap2)\n",
    "for i in range(20):\n",
    "    print(cmap2(i)[0:3])\n",
    "print(type(cmap2))\n",
    "print(cmap2.N-1) \n",
    "    \n",
    "set_colors = []\n",
    "for i in range(0,cmap2.N):\n",
    "    set_colors.append((float(cmap2(i)[0]),\n",
    "                       float(cmap2(i)[1]),\n",
    "                       float(cmap2(i)[2]),\n",
    "                       #float(amwg[\"a\"][i])\n",
    "                      ))\n",
    "print(set_colors)"
   ]
  },
  {
   "cell_type": "code",
   "execution_count": null,
   "id": "7489dd63-3c62-4616-a149-04a5fef766d1",
   "metadata": {},
   "outputs": [],
   "source": []
  },
  {
   "cell_type": "code",
   "execution_count": 2,
   "id": "96b72a1f-dfb5-4c45-89d7-d95696c71636",
   "metadata": {},
   "outputs": [
    {
     "name": "stdout",
     "output_type": "stream",
     "text": [
      "<xarray.DataArray 'sst' ()>\n",
      "array(-1.79999995)\n",
      "<xarray.DataArray 'sst' ()>\n",
      "array(-1.79999995)\n"
     ]
    }
   ],
   "source": [
    "arr0 = xr.open_dataset(\"/project/mojave/observations/OBS-SST/ersstv5.185401-202412.nc\")\n",
    "#print(arr0)\n",
    "arr = arr0.sst\n",
    "print(arr.min())\n",
    "arr = xr.where(arr<-1.8, -1.8, arr)\n",
    "print(arr.min())"
   ]
  },
  {
   "cell_type": "code",
   "execution_count": 38,
   "id": "dfd82492-f10f-4565-9398-a5a5e98244e3",
   "metadata": {},
   "outputs": [
    {
     "name": "stdout",
     "output_type": "stream",
     "text": [
      "<class 'numpy.ndarray'>\n",
      "<class 'numpy.ndarray'>\n"
     ]
    }
   ],
   "source": [
    "bounds = np.linspace(0.200000, 2.00000, 10)\n",
    "print(type(bounds))\n",
    "\n",
    "my_array = np.array([1, 2, 3, 4])\n",
    "print(type(my_array))"
   ]
  },
  {
   "cell_type": "code",
   "execution_count": 7,
   "id": "d6613fde-d510-4177-a0b6-f4a57615d8de",
   "metadata": {},
   "outputs": [
    {
     "name": "stdout",
     "output_type": "stream",
     "text": [
      "2.32\n"
     ]
    }
   ],
   "source": [
    "a = 2.3189567\n",
    "print(np.round(a, decimals=2))"
   ]
  },
  {
   "cell_type": "code",
   "execution_count": 2,
   "id": "29f49d89-6d6a-47d9-8392-c656226f75a1",
   "metadata": {},
   "outputs": [
    {
     "name": "stdout",
     "output_type": "stream",
     "text": [
      "[0.2 0.4 0.6 0.8 1.  1.2 1.4 1.6 1.8 2. ]\n"
     ]
    }
   ],
   "source": [
    "bounds = np.linspace(0.2, 2, 10)\n",
    "print(bounds)"
   ]
  },
  {
   "cell_type": "code",
   "execution_count": 2,
   "id": "ddde33ee-5891-4451-a0dc-2f2700749e04",
   "metadata": {},
   "outputs": [
    {
     "name": "stdout",
     "output_type": "stream",
     "text": [
      "Empty list!\n"
     ]
    }
   ],
   "source": [
    "nalist = []\n",
    "if not nalist:\n",
    "    print(\"Empty list!\")"
   ]
  },
  {
   "cell_type": "code",
   "execution_count": 3,
   "id": "708d72ac-5ecf-4581-898d-a68a467a2214",
   "metadata": {},
   "outputs": [],
   "source": [
    "def yyyymm_time(yrStrt, yrLast, t=int):\n",
    "    ''' usage\n",
    "          yyyymm = yyyymm_time(1800,2001,int|float)'''\n",
    "    nmos = 12\n",
    "    mons = np.arange(1,13)\n",
    "    nyrs = int(yrLast)-int(yrStrt)+1\n",
    "    ntim = nmos*nyrs\n",
    "    timeType = np.int_\n",
    "    if t == float:\n",
    "        timeType = float\n",
    "    timeValsNP = np.empty(ntim, dtype=timeType)\n",
    "#    month = np.empty(ntim, dtype=timeType)\n",
    "\n",
    "    n = 0\n",
    "    for yr in range(yrStrt, yrLast+1):\n",
    "        timeValsNP[n:n+nmos] = yr*100 + mons\n",
    "#        month[n:n+nmos] = mons\n",
    "        n = n+nmos\n",
    "    \n",
    "    timeVals = xr.DataArray(timeValsNP, dims=('time'), coords={'time': timeValsNP},\n",
    "                            attrs={'long_name' : 'time', 'units' : 'YYYYMM'})\n",
    "    return timeVals"
   ]
  },
  {
   "cell_type": "code",
   "execution_count": 4,
   "id": "55c452b2-c652-4867-bb44-5569936071e3",
   "metadata": {
    "collapsed": true,
    "jupyter": {
     "outputs_hidden": true
    },
    "tags": []
   },
   "outputs": [
    {
     "name": "stdout",
     "output_type": "stream",
     "text": [
      "<xarray.DataArray (time: 2412)>\n",
      "array([250001, 250002, 250003, ..., 270010, 270011, 270012])\n",
      "Coordinates:\n",
      "  * time     (time) int64 250001 250002 250003 250004 ... 270010 270011 270012\n",
      "Attributes:\n",
      "    long_name:  time\n",
      "    units:      YYYYMM\n"
     ]
    }
   ],
   "source": [
    "timeT = yyyymm_time(2500, 2700, \"integer\")\n",
    "print(timeT)"
   ]
  },
  {
   "cell_type": "code",
   "execution_count": 5,
   "id": "5b0f6660-11be-4702-9dc6-4b645e9674fb",
   "metadata": {
    "collapsed": true,
    "jupyter": {
     "outputs_hidden": true
    },
    "tags": []
   },
   "outputs": [
    {
     "name": "stdout",
     "output_type": "stream",
     "text": [
      "[<xarray.DataArray ()>\n",
      "array(250001)\n",
      "Coordinates:\n",
      "    time     int64 250001\n",
      "Attributes:\n",
      "    long_name:  time\n",
      "    units:      YYYYMM] [<xarray.DataArray ()>\n",
      "array(270012)\n",
      "Coordinates:\n",
      "    time     int64 270012\n",
      "Attributes:\n",
      "    long_name:  time\n",
      "    units:      YYYYMM]\n"
     ]
    }
   ],
   "source": [
    "first = str([timeT[0]])\n",
    "last = str([timeT[-1]])\n",
    "print(first+' '+last)"
   ]
  },
  {
   "cell_type": "code",
   "execution_count": 6,
   "id": "30c2fdb9-6e11-4d44-93c4-92e080895f4d",
   "metadata": {
    "collapsed": true,
    "jupyter": {
     "outputs_hidden": true
    },
    "tags": []
   },
   "outputs": [
    {
     "name": "stdout",
     "output_type": "stream",
     "text": [
      "['0571-01' '0571-02' '0571-03' ... '0720-10' '0720-11' '0720-12']\n"
     ]
    }
   ],
   "source": [
    "syear = 571\n",
    "eyear = 720\n",
    "dates = np.arange(str(syear)+'-01-15', str(eyear+1)+'-01-15', dtype='datetime64[M]')\n",
    "print(dates)"
   ]
  },
  {
   "cell_type": "code",
   "execution_count": 7,
   "id": "f15422ee-5923-451c-9bba-915f8f7b774f",
   "metadata": {
    "tags": []
   },
   "outputs": [],
   "source": [
    "from cftime import DatetimeNoLeap"
   ]
  },
  {
   "cell_type": "code",
   "execution_count": 8,
   "id": "2ed98499-903f-4e93-b2ef-59f8ef610537",
   "metadata": {
    "collapsed": true,
    "jupyter": {
     "outputs_hidden": true
    },
    "tags": []
   },
   "outputs": [
    {
     "name": "stdout",
     "output_type": "stream",
     "text": [
      "(1800,)\n"
     ]
    },
    {
     "ename": "ValueError",
     "evalue": "no ISO-8601 or cftime-string-like match for string: 571",
     "output_type": "error",
     "traceback": [
      "\u001b[0;31m---------------------------------------------------------------------------\u001b[0m",
      "\u001b[0;31mValueError\u001b[0m                                Traceback (most recent call last)",
      "Cell \u001b[0;32mIn[8], line 3\u001b[0m\n\u001b[1;32m      1\u001b[0m testing \u001b[38;5;241m=\u001b[39m dates\u001b[38;5;241m.\u001b[39mshape\n\u001b[1;32m      2\u001b[0m \u001b[38;5;28mprint\u001b[39m(testing)\n\u001b[0;32m----> 3\u001b[0m time \u001b[38;5;241m=\u001b[39m \u001b[43mxr\u001b[49m\u001b[38;5;241;43m.\u001b[39;49m\u001b[43mcftime_range\u001b[49m\u001b[43m(\u001b[49m\u001b[43mstart\u001b[49m\u001b[38;5;241;43m=\u001b[39;49m\u001b[38;5;28;43mstr\u001b[39;49m\u001b[43m(\u001b[49m\u001b[43msyear\u001b[49m\u001b[43m)\u001b[49m\u001b[43m,\u001b[49m\u001b[43m \u001b[49m\u001b[43mperiods\u001b[49m\u001b[38;5;241;43m=\u001b[39;49m\u001b[43mtesting\u001b[49m\u001b[43m[\u001b[49m\u001b[38;5;241;43m0\u001b[39;49m\u001b[43m]\u001b[49m\u001b[43m,\u001b[49m\u001b[43m \u001b[49m\u001b[43mfreq\u001b[49m\u001b[38;5;241;43m=\u001b[39;49m\u001b[38;5;124;43m\"\u001b[39;49m\u001b[38;5;124;43mMS\u001b[39;49m\u001b[38;5;124;43m\"\u001b[39;49m\u001b[43m,\u001b[49m\u001b[43m \u001b[49m\u001b[43mcalendar\u001b[49m\u001b[38;5;241;43m=\u001b[39;49m\u001b[38;5;124;43m\"\u001b[39;49m\u001b[38;5;124;43mnoleap\u001b[39;49m\u001b[38;5;124;43m\"\u001b[39;49m\u001b[43m)\u001b[49m\n\u001b[1;32m      4\u001b[0m \u001b[38;5;28mprint\u001b[39m(time)\n",
      "File \u001b[0;32m/project/cas/asphilli/anaconda3/lib/python3.8/site-packages/xarray/coding/cftime_offsets.py:1034\u001b[0m, in \u001b[0;36mcftime_range\u001b[0;34m(start, end, periods, freq, normalize, name, closed, calendar)\u001b[0m\n\u001b[1;32m   1028\u001b[0m     \u001b[38;5;28;01mraise\u001b[39;00m \u001b[38;5;167;01mValueError\u001b[39;00m(\n\u001b[1;32m   1029\u001b[0m         \u001b[38;5;124m\"\u001b[39m\u001b[38;5;124mOf the arguments \u001b[39m\u001b[38;5;124m'\u001b[39m\u001b[38;5;124mstart\u001b[39m\u001b[38;5;124m'\u001b[39m\u001b[38;5;124m, \u001b[39m\u001b[38;5;124m'\u001b[39m\u001b[38;5;124mend\u001b[39m\u001b[38;5;124m'\u001b[39m\u001b[38;5;124m, \u001b[39m\u001b[38;5;124m'\u001b[39m\u001b[38;5;124mperiods\u001b[39m\u001b[38;5;124m'\u001b[39m\u001b[38;5;124m, and \u001b[39m\u001b[38;5;124m'\u001b[39m\u001b[38;5;124mfreq\u001b[39m\u001b[38;5;124m'\u001b[39m\u001b[38;5;124m, three \u001b[39m\u001b[38;5;124m\"\u001b[39m\n\u001b[1;32m   1030\u001b[0m         \u001b[38;5;124m\"\u001b[39m\u001b[38;5;124mmust be specified at a time.\u001b[39m\u001b[38;5;124m\"\u001b[39m\n\u001b[1;32m   1031\u001b[0m     )\n\u001b[1;32m   1033\u001b[0m \u001b[38;5;28;01mif\u001b[39;00m start \u001b[38;5;129;01mis\u001b[39;00m \u001b[38;5;129;01mnot\u001b[39;00m \u001b[38;5;28;01mNone\u001b[39;00m:\n\u001b[0;32m-> 1034\u001b[0m     start \u001b[38;5;241m=\u001b[39m \u001b[43mto_cftime_datetime\u001b[49m\u001b[43m(\u001b[49m\u001b[43mstart\u001b[49m\u001b[43m,\u001b[49m\u001b[43m \u001b[49m\u001b[43mcalendar\u001b[49m\u001b[43m)\u001b[49m\n\u001b[1;32m   1035\u001b[0m     start \u001b[38;5;241m=\u001b[39m _maybe_normalize_date(start, normalize)\n\u001b[1;32m   1036\u001b[0m \u001b[38;5;28;01mif\u001b[39;00m end \u001b[38;5;129;01mis\u001b[39;00m \u001b[38;5;129;01mnot\u001b[39;00m \u001b[38;5;28;01mNone\u001b[39;00m:\n",
      "File \u001b[0;32m/project/cas/asphilli/anaconda3/lib/python3.8/site-packages/xarray/coding/cftime_offsets.py:750\u001b[0m, in \u001b[0;36mto_cftime_datetime\u001b[0;34m(date_str_or_date, calendar)\u001b[0m\n\u001b[1;32m    745\u001b[0m     \u001b[38;5;28;01mif\u001b[39;00m calendar \u001b[38;5;129;01mis\u001b[39;00m \u001b[38;5;28;01mNone\u001b[39;00m:\n\u001b[1;32m    746\u001b[0m         \u001b[38;5;28;01mraise\u001b[39;00m \u001b[38;5;167;01mValueError\u001b[39;00m(\n\u001b[1;32m    747\u001b[0m             \u001b[38;5;124m\"\u001b[39m\u001b[38;5;124mIf converting a string to a cftime.datetime object, \u001b[39m\u001b[38;5;124m\"\u001b[39m\n\u001b[1;32m    748\u001b[0m             \u001b[38;5;124m\"\u001b[39m\u001b[38;5;124ma calendar type must be provided\u001b[39m\u001b[38;5;124m\"\u001b[39m\n\u001b[1;32m    749\u001b[0m         )\n\u001b[0;32m--> 750\u001b[0m     date, _ \u001b[38;5;241m=\u001b[39m \u001b[43m_parse_iso8601_with_reso\u001b[49m\u001b[43m(\u001b[49m\u001b[43mget_date_type\u001b[49m\u001b[43m(\u001b[49m\u001b[43mcalendar\u001b[49m\u001b[43m)\u001b[49m\u001b[43m,\u001b[49m\u001b[43m \u001b[49m\u001b[43mdate_str_or_date\u001b[49m\u001b[43m)\u001b[49m\n\u001b[1;32m    751\u001b[0m     \u001b[38;5;28;01mreturn\u001b[39;00m date\n\u001b[1;32m    752\u001b[0m \u001b[38;5;28;01melif\u001b[39;00m \u001b[38;5;28misinstance\u001b[39m(date_str_or_date, cftime\u001b[38;5;241m.\u001b[39mdatetime):\n",
      "File \u001b[0;32m/project/cas/asphilli/anaconda3/lib/python3.8/site-packages/xarray/coding/cftimeindex.py:128\u001b[0m, in \u001b[0;36m_parse_iso8601_with_reso\u001b[0;34m(date_type, timestr)\u001b[0m\n\u001b[1;32m    125\u001b[0m     \u001b[38;5;28;01mraise\u001b[39;00m \u001b[38;5;167;01mModuleNotFoundError\u001b[39;00m(\u001b[38;5;124m\"\u001b[39m\u001b[38;5;124mNo module named \u001b[39m\u001b[38;5;124m'\u001b[39m\u001b[38;5;124mcftime\u001b[39m\u001b[38;5;124m'\u001b[39m\u001b[38;5;124m\"\u001b[39m)\n\u001b[1;32m    127\u001b[0m default \u001b[38;5;241m=\u001b[39m date_type(\u001b[38;5;241m1\u001b[39m, \u001b[38;5;241m1\u001b[39m, \u001b[38;5;241m1\u001b[39m)\n\u001b[0;32m--> 128\u001b[0m result \u001b[38;5;241m=\u001b[39m \u001b[43mparse_iso8601_like\u001b[49m\u001b[43m(\u001b[49m\u001b[43mtimestr\u001b[49m\u001b[43m)\u001b[49m\n\u001b[1;32m    129\u001b[0m replace \u001b[38;5;241m=\u001b[39m {}\n\u001b[1;32m    131\u001b[0m \u001b[38;5;28;01mfor\u001b[39;00m attr \u001b[38;5;129;01min\u001b[39;00m [\u001b[38;5;124m\"\u001b[39m\u001b[38;5;124myear\u001b[39m\u001b[38;5;124m\"\u001b[39m, \u001b[38;5;124m\"\u001b[39m\u001b[38;5;124mmonth\u001b[39m\u001b[38;5;124m\"\u001b[39m, \u001b[38;5;124m\"\u001b[39m\u001b[38;5;124mday\u001b[39m\u001b[38;5;124m\"\u001b[39m, \u001b[38;5;124m\"\u001b[39m\u001b[38;5;124mhour\u001b[39m\u001b[38;5;124m\"\u001b[39m, \u001b[38;5;124m\"\u001b[39m\u001b[38;5;124mminute\u001b[39m\u001b[38;5;124m\"\u001b[39m, \u001b[38;5;124m\"\u001b[39m\u001b[38;5;124msecond\u001b[39m\u001b[38;5;124m\"\u001b[39m]:\n",
      "File \u001b[0;32m/project/cas/asphilli/anaconda3/lib/python3.8/site-packages/xarray/coding/cftimeindex.py:118\u001b[0m, in \u001b[0;36mparse_iso8601_like\u001b[0;34m(datetime_string)\u001b[0m\n\u001b[1;32m    116\u001b[0m     \u001b[38;5;28;01mif\u001b[39;00m match:\n\u001b[1;32m    117\u001b[0m         \u001b[38;5;28;01mreturn\u001b[39;00m match\u001b[38;5;241m.\u001b[39mgroupdict()\n\u001b[0;32m--> 118\u001b[0m \u001b[38;5;28;01mraise\u001b[39;00m \u001b[38;5;167;01mValueError\u001b[39;00m(\n\u001b[1;32m    119\u001b[0m     \u001b[38;5;124mf\u001b[39m\u001b[38;5;124m\"\u001b[39m\u001b[38;5;124mno ISO-8601 or cftime-string-like match for string: \u001b[39m\u001b[38;5;132;01m{\u001b[39;00mdatetime_string\u001b[38;5;132;01m}\u001b[39;00m\u001b[38;5;124m\"\u001b[39m\n\u001b[1;32m    120\u001b[0m )\n",
      "\u001b[0;31mValueError\u001b[0m: no ISO-8601 or cftime-string-like match for string: 571"
     ]
    }
   ],
   "source": [
    "testing = dates.shape\n",
    "print(testing)\n",
    "time = xr.cftime_range(start=str(syear), periods=testing[0], freq=\"MS\", calendar=\"noleap\")\n",
    "print(time)"
   ]
  },
  {
   "cell_type": "code",
   "execution_count": 9,
   "id": "caef68df-ae0d-47dd-b13f-8b8be53aee80",
   "metadata": {},
   "outputs": [
    {
     "data": {
      "text/plain": [
       "array([1., 2., 3.])"
      ]
     },
     "execution_count": 9,
     "metadata": {},
     "output_type": "execute_result"
    }
   ],
   "source": [
    "np.sqrt([1,4,9])"
   ]
  },
  {
   "cell_type": "code",
   "execution_count": 5,
   "id": "e1922877-897c-4ddf-8787-d15ddb21fd43",
   "metadata": {},
   "outputs": [
    {
     "name": "stdout",
     "output_type": "stream",
     "text": [
      "['ts_spatialmean_djf', 'ts_spatialmean_jfm', 'ts_spatialmean_mam', 'ts_spatialmean_jja', 'ts_spatialmean_jas', 'ts_spatialmean_son', 'ts_spatialmean_ann', 'ts_spatialstddev_djf', 'ts_spatialstddev_jfm', 'ts_spatialstddev_mam', 'ts_spatialstddev_jja', 'ts_spatialstddev_jas', 'ts_spatialstddev_son', 'ts_spatialstddev_ann']\n"
     ]
    }
   ],
   "source": [
    "metrics = ['_spatialmean_djf','_spatialmean_jfm','_spatialmean_mam','_spatialmean_jja',\\\n",
    "               '_spatialmean_jas','_spatialmean_son','_spatialmean_ann',\\\n",
    "               '_spatialstddev_djf','_spatialstddev_jfm','_spatialstddev_mam','_spatialstddev_jja',\\\n",
    "               '_spatialstddev_jas','_spatialstddev_son','_spatialstddev_ann']\n",
    "metrics = ['ts'+ s for s in metrics]\n",
    "print(metrics)"
   ]
  },
  {
   "cell_type": "code",
   "execution_count": null,
   "id": "36243bbe-6d95-454d-a727-711762e319b2",
   "metadata": {},
   "outputs": [],
   "source": [
    "#        for i, x in enumerate(bounds):    #-- hide every 2nd cbar tick label\n",
    "#            if gg < 7:\n",
    "#                 if i % 2:\n",
    "#                      cbar_labels[i] = ''\n",
    "#                 else:\n",
    "#                      cbar_labels[i] = str(int(x))\n",
    "#            else: \n",
    "#                cbar_labels[i] = str(np.round(x, decimals=2))"
   ]
  }
 ],
 "metadata": {
  "kernelspec": {
   "display_name": "Python 3 (ipykernel)",
   "language": "python",
   "name": "python3"
  },
  "language_info": {
   "codemirror_mode": {
    "name": "ipython",
    "version": 3
   },
   "file_extension": ".py",
   "mimetype": "text/x-python",
   "name": "python",
   "nbconvert_exporter": "python",
   "pygments_lexer": "ipython3",
   "version": "3.8.16"
  }
 },
 "nbformat": 4,
 "nbformat_minor": 5
}
