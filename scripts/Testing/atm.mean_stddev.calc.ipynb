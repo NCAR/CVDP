{
 "cells": [
  {
   "cell_type": "markdown",
   "metadata": {},
   "source": [
    "Calculates global means and standard deviations\n",
    "\n",
    "Variables used: prect, psl, trefht, ts"
   ]
  },
  {
   "cell_type": "code",
   "execution_count": 1,
   "metadata": {},
   "outputs": [],
   "source": [
    "import os\n",
    "import xarray as xr \n",
    "import numpy as np\n",
    "import pandas as pd\n",
    "import functions as func\n",
    "import calendar as calendar"
   ]
  },
  {
   "cell_type": "code",
   "execution_count": null,
   "metadata": {},
   "outputs": [],
   "source": [
    "SCALE_TIMESERIES =  os.environ.get('SCALE_TIMESERIES')\n",
    "CREATE_GRAPHICS = os.environ.get('CREATE_GRAPHICS')\n",
    "PNG_SCALE = float(os.environ.get('PNG_SCALE'))\n",
    "OUTPUT_TYPE = os.environ.get('OUTPUT_TYPE')\n",
    "COLORMAP = os.environ.get('COLORMAP')\n",
    "OUTDIR = os.environ.get('OUTDIR')\n",
    "PNG_SCALE_SUMMARY = float(os.environ.get('PNG_SCALE_SUMMARY'))"
   ]
  },
  {
   "cell_type": "code",
   "execution_count": 3,
   "metadata": {},
   "outputs": [
    {
     "name": "stdout",
     "output_type": "stream",
     "text": [
      "[]\n",
      "creating GPCP.cvdp_data.prect.mean_stddev.py.1979-2018.nc\n",
      "PRECC\n",
      "PRECL\n",
      "PRECT\n",
      "pr\n",
      "PPT\n",
      "ppt\n",
      "p\n",
      "P\n",
      "precip\n",
      "['CESM1-LENS 018', 'GPCC', 'GPCP', 'NCAR #1', 'NCAR #2', 'NCAR #3', 'NCAR #4', 'NCAR #5', 'MPI #1', 'NCAR #40', 'MPI #2', 'MPI #3', 'MPI #4', 'MPI #5', 'CESM2 r1i1p1f1', 'CESM2 r2i1p1f1', 'CESM2 r3i1p1f1', 'CESM2 r4i1p1f1', 'CESM2 r5i1p1f1', 'CESM2 r6i1p1f1']\n",
      "[]\n",
      "creating CESM2_r10i1p1f1.cvdp_data.psl.mean_stddev.py.1979-2099.nc\n",
      "PSL\n"
     ]
    },
    {
     "name": "stderr",
     "output_type": "stream",
     "text": [
      "/project/cas/asphilli/anaconda3/lib/python3.8/site-packages/xarray/conventions.py:512: SerializationWarning: variable 'psl' has multiple fill values {1e+20, 1e+20}, decoding all values to NaN.\n",
      "  new_vars[k] = decode_cf_variable(\n"
     ]
    },
    {
     "name": "stdout",
     "output_type": "stream",
     "text": [
      "psl\n",
      "['CESM2-LENS 1301.020', 'CESM2-LENS 1001.001', 'CESM2 r10i1p1f1', 'ERA20C_ERAI', 'ERAI', 'MERRA2', 'NCAR #1', 'NCAR #4', 'NCAR #5', 'MPI #1', 'NCAR #40', 'MPI #2', 'MPI #3', 'CESM2 r4i1p1f1', 'CESM2 r5i1p1f1']\n",
      "[]\n",
      "creating BEST_1.cvdp_data.trefht.mean_stddev.py.1979-2018.nc\n",
      "TREFHT\n",
      "tas\n",
      "flipping longitudes\n",
      "['BEST', 'GISTEMP', 'BEST_1', 'GISTEMP_1', 'NCAR #1', 'NCAR #2', 'NCAR #3', 'NCAR #4', 'NCAR #5', 'MPI #1', 'NCAR #40', 'MPI #2', 'MPI #3', 'MPI #4', 'MPI #5', 'CESM2 r1i1p1f1', 'CESM2 r2i1p1f1', 'CESM2 r3i1p1f1', 'CESM2 r4i1p1f1', 'CESM2 r5i1p1f1', 'CESM2 r6i1p1f1']\n",
      "[]\n",
      "creating ERSST_v5_1.cvdp_data.ts.mean_stddev.py.1979-2018.nc\n",
      "TS\n",
      "ts\n",
      "sst\n",
      "['ERSST v5', 'HadISST', 'ERSST v5_1', 'HadISST_1', 'NCAR #1', 'NCAR #2', 'NCAR #3', 'NCAR #4', 'NCAR #5', 'MPI #1', 'NCAR #40', 'MPI #2', 'MPI #3', 'MPI #4', 'MPI #5', 'CESM2 r1i1p1f1', 'CESM2 r2i1p1f1', 'CESM2 r3i1p1f1', 'CESM2 r4i1p1f1', 'CESM2 r5i1p1f1', 'CESM2 r6i1p1f1']\n"
     ]
    }
   ],
   "source": [
    "vlist = ['prect','psl','trefht','ts']\n",
    "#vlist = ['prect']\n",
    "\n",
    "for vn in vlist:\n",
    "    names = []\n",
    "    paths = []\n",
    "    syear = []\n",
    "    eyear = []\n",
    "    names_EM = []\n",
    "    EM_num = []\n",
    "    \n",
    "#    print(vn)\n",
    "    with open('../namelist_byvar/namelist_'+vn) as f:\n",
    "        for line in f:\n",
    "            check = line.split(' | ')\n",
    "            names.append(check[0])\n",
    "            paths.append(check[1])\n",
    "            syear.append(check[2])\n",
    "            eyear.append(check[3])\n",
    "            ems = check[4].split('-')\n",
    "            EM_num.append(ems[0])\n",
    "            names_EM.append(ems[1])\n",
    "\n",
    "#    print(paths)\n",
    "    gg = -1\n",
    "    for mr in paths:\n",
    "        gg = gg+1    \n",
    "        fno = names[gg]+'.cvdp_data.'+vn+'.mean_stddev.py.'+syear[gg]+'-'+eyear[gg]+'.nc'\n",
    "        fno = fno.replace(' ','_')\n",
    "        if not os.path.isfile(fno):\n",
    "            print('creating '+fno)\n",
    "            fils = !ls {mr}   # this works as direct input into open_mfdataset!\n",
    "            farr = func.data_read_in_3D(fils,syear[gg],eyear[gg],vn)\n",
    "            finarr = func.seasonal_mean_stddev(farr,vn)\n",
    "    \n",
    "            finarr[vn+'_spatialmean_djf'].to_netcdf(fno,encoding={vn+'_spatialmean_djf':{'dtype':'float32', '_FillValue': 1.e20}, 'lat':{'dtype':'float32','_FillValue': None}, 'lon':{'dtype':'float32','_FillValue': None}})\n",
    "            finarr[vn+'_spatialmean_mam'].to_netcdf(fno,encoding={vn+'_spatialmean_mam':{'dtype':'float32', '_FillValue': 1.e20}},mode='a')\n",
    "            finarr[vn+'_spatialmean_jja'].to_netcdf(fno,encoding={vn+'_spatialmean_jja':{'dtype':'float32', '_FillValue': 1.e20}},mode='a')\n",
    "            finarr[vn+'_spatialmean_son'].to_netcdf(fno,encoding={vn+'_spatialmean_son':{'dtype':'float32', '_FillValue': 1.e20}},mode='a')\n",
    "            finarr[vn+'_spatialmean_jfm'].to_netcdf(fno,encoding={vn+'_spatialmean_jfm':{'dtype':'float32', '_FillValue': 1.e20}},mode='a')\n",
    "            finarr[vn+'_spatialmean_jas'].to_netcdf(fno,encoding={vn+'_spatialmean_jas':{'dtype':'float32', '_FillValue': 1.e20}},mode='a')\n",
    "            finarr[vn+'_spatialmean_ann'].to_netcdf(fno,encoding={vn+'_spatialmean_ann':{'dtype':'float32', '_FillValue': 1.e20}},mode='a')\n",
    "            finarr[vn+'_spatialstddev_djf'].to_netcdf(fno,encoding={vn+'_spatialstddev_djf':{'dtype':'float32', '_FillValue': 1.e20}},mode='a')\n",
    "            finarr[vn+'_spatialstddev_mam'].to_netcdf(fno,encoding={vn+'_spatialstddev_mam':{'dtype':'float32', '_FillValue': 1.e20}},mode='a')\n",
    "            finarr[vn+'_spatialstddev_jja'].to_netcdf(fno,encoding={vn+'_spatialstddev_jja':{'dtype':'float32', '_FillValue': 1.e20}},mode='a')\n",
    "            finarr[vn+'_spatialstddev_son'].to_netcdf(fno,encoding={vn+'_spatialstddev_son':{'dtype':'float32', '_FillValue': 1.e20}},mode='a')\n",
    "            finarr[vn+'_spatialstddev_jfm'].to_netcdf(fno,encoding={vn+'_spatialstddev_jfm':{'dtype':'float32', '_FillValue': 1.e20}},mode='a')\n",
    "            finarr[vn+'_spatialstddev_jas'].to_netcdf(fno,encoding={vn+'_spatialstddev_jas':{'dtype':'float32', '_FillValue': 1.e20}},mode='a')\n",
    "            finarr[vn+'_spatialstddev_ann'].to_netcdf(fno,encoding={vn+'_spatialstddev_ann':{'dtype':'float32', '_FillValue': 1.e20}},mode='a')\n",
    "            del(finarr,fils,farr)\n",
    "            break"
   ]
  },
  {
   "cell_type": "code",
   "execution_count": 12,
   "metadata": {},
   "outputs": [
    {
     "name": "stdout",
     "output_type": "stream",
     "text": [
      "<class 'dict'>\n",
      "dict_keys(['prect', 'psl', 'trefht', 'ts'])\n",
      "dict_values(['pr', 'psl', 'tas', 'ts'])\n",
      "<class 'list'>\n"
     ]
    },
    {
     "data": {
      "text/plain": [
       "'pr'"
      ]
     },
     "execution_count": 12,
     "metadata": {},
     "output_type": "execute_result"
    }
   ],
   "source": [
    "vlist = {'prect':'pr','psl':'psl','trefht':'tas','ts':'ts'}\n",
    "print(type(vlist))\n",
    "print(vlist.keys())\n",
    "print(vlist.values())\n",
    "uh = list(vlist.keys())\n",
    "print(type(uh))\n",
    "\n",
    "vlist[uh[0]]"
   ]
  },
  {
   "cell_type": "code",
   "execution_count": 18,
   "metadata": {},
   "outputs": [
    {
     "name": "stdout",
     "output_type": "stream",
     "text": [
      "['prect', 'psl', 'trefht', 'ts']\n",
      "tas\n",
      "<class 'str'>\n"
     ]
    }
   ],
   "source": [
    "vdict = {'prect':'pr','psl':'psl','trefht':'tas','ts':'ts'}\n",
    "vlist = list(vdict.keys())\n",
    "print(vlist)\n",
    "huh = vdict[vlist[2]]\n",
    "print(huh)\n",
    "print(type(huh))"
   ]
  },
  {
   "cell_type": "code",
   "execution_count": null,
   "metadata": {},
   "outputs": [],
   "source": []
  }
 ],
 "metadata": {
  "kernelspec": {
   "display_name": "Python 3 (ipykernel)",
   "language": "python",
   "name": "python3"
  },
  "language_info": {
   "codemirror_mode": {
    "name": "ipython",
    "version": 3
   },
   "file_extension": ".py",
   "mimetype": "text/x-python",
   "name": "python",
   "nbconvert_exporter": "python",
   "pygments_lexer": "ipython3",
   "version": "3.8.16"
  }
 },
 "nbformat": 4,
 "nbformat_minor": 4
}
